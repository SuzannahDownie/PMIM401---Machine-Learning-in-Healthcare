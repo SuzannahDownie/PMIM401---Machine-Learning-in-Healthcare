{
 "cells": [
  {
   "cell_type": "markdown",
   "id": "7f50a4da",
   "metadata": {},
   "source": [
    "<H2>Introduction</H2>\n",
    "\n",
    "This notebook will answer within it the questions posed as part of the PMIM402 clustering assessment task. This will \n",
    "enable users to view code and output alongside further information about the process, which should provide a degree \n",
    "of contextual background that will aid users' comprehension of the larger task at hand. Specifically, the questions posed are the following:\n",
    "\n",
    "\n",
    "\n",
    "\n",
    "\n",
    "These questions will be answered at appropriate points during this notebook. This may mean that they are not necessarily answered in the order specified above, but this is to ensure that they are answered in the context of both code and output that will help to demonstrate the responses in practical terms.  \n",
    "  \n"
   ]
  },
  {
   "cell_type": "code",
   "execution_count": null,
   "id": "bd831782",
   "metadata": {},
   "outputs": [],
   "source": []
  }
 ],
 "metadata": {
  "kernelspec": {
   "display_name": "R",
   "language": "R",
   "name": "ir"
  },
  "language_info": {
   "codemirror_mode": "r",
   "file_extension": ".r",
   "mimetype": "text/x-r-source",
   "name": "R",
   "pygments_lexer": "r",
   "version": "4.1.2"
  }
 },
 "nbformat": 4,
 "nbformat_minor": 5
}
